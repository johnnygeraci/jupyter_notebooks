{
 "cells": [
  {
   "cell_type": "markdown",
   "metadata": {},
   "source": [
    "# Week 3 - Python data types, arrays, touples, lists, and dictionaries with logical operation and introduction to loops\n",
    "\n",
    "Below are links to articles regarding key topics for these exercises. You are encouraged to add extra cells where needed to test ideas and experiment to help understand these concepts, feel free to add and please save and upload your testing/experimenting when done.\n",
    "\n",
    "### Python Data Types:\n",
    "Documentation for the Python programming language (fairly dry, but specific to how these data types are implemented). This also includes links to the documentation for dictionaries, lists, and touples.\n",
    "https://docs.python.org/3/library/datatypes.html\n",
    "\n",
    "Geeks for Geeks is good to get a better practical view of these concepts:\n",
    "https://www.geeksforgeeks.org/python-data-types/\n",
    "\n",
    "Real Python helped me a lot to get started, here are the definitions of these same concepts written in their more intro, user friendly style.\n",
    "https://realpython.com/python-data-types/\n",
    "\n",
    "### Python Operators:\n",
    "W3 Schools has a great set of 'cheat sheets' to review and refresh on many different languages and topics. Here is their sheet on operatiors in Python. This includes logical operations we will use in If statements to help make the computer make decisions:\n",
    "https://www.w3schools.com/python/python_operators.asp\n",
    "\n",
    "Geeks for Geeks with another easy to follow approach to Logical Operators specifically:\n",
    "https://www.geeksforgeeks.org/python-logical-operators-with-examples-improvement-needed/\n",
    "\n",
    "### Python Loops:\n",
    "Geeks for Geeks shows both While loops and For loops, and gives some idea on when you want to use which:\n",
    "https://www.geeksforgeeks.org/loops-in-python/\n",
    "\n",
    "Real Pythons article on For Loops (Used more frequently):\n",
    "https://realpython.com/python-for-loop/\n",
    "\n",
    "### Python Variables:\n",
    "W3Schools has a good intro on what variables are and how they are used in Python:\n",
    "https://www.w3schools.com/python/python_variables.asp\n",
    "\n",
    "Real Python has a similar article to help explain variables for those not familar with the concepts:\n",
    "https://realpython.com/python-variables/"
   ]
  },
  {
   "cell_type": "markdown",
   "metadata": {},
   "source": [
    "# Exercises\n",
    "Below are some starting variables and basic steps to setup the questions and exercises below. Feel free to add cells, or add to each cell provided to solve the exercises:\n",
    "\n",
    "## Exercise 1 - List transformations\n",
    "* Add 'horse' and 'barn' to the singular_words list\n",
    "* Create a plural_words list containing the plural word for each item in the singular_words list. Use a loop so you do not have to do this manually"
   ]
  },
  {
   "cell_type": "code",
   "execution_count": 1,
   "metadata": {
    "ExecuteTime": {
     "end_time": "2020-08-18T17:22:52.798149Z",
     "start_time": "2020-08-18T17:22:52.792164Z"
    }
   },
   "outputs": [],
   "source": [
    "singular_words = ['dog', 'cat', 'house', 'toy' , 'horse' , 'barn']"
   ]
  },
  {
   "cell_type": "code",
   "execution_count": 2,
   "metadata": {},
   "outputs": [],
   "source": [
    "plural_words = [ 'dogs' , 'cats' , 'houses' , 'toys' , 'horses' , 'barns' ]"
   ]
  },
  {
   "cell_type": "markdown",
   "metadata": {},
   "source": [
    "## Exercise 2 - Categorizing lists with Dictionaries\n",
    "* Use the plural_words list created above and the word_category dictionary provided below to create a loop that categorizes each word in the list.\n",
    "* The loop should print the word and what the category is in a complete sentence, ordered by how the words appear in the plural_words list."
   ]
  },
  {
   "cell_type": "raw",
   "metadata": {},
   "source": []
  },
  {
   "cell_type": "code",
   "execution_count": null,
   "metadata": {},
   "outputs": [],
   "source": []
  },
  {
   "cell_type": "code",
   "execution_count": null,
   "metadata": {
    "ExecuteTime": {
     "end_time": "2020-08-18T18:49:06.051285Z",
     "start_time": "2020-08-18T18:49:06.043306Z"
    }
   },
   "outputs": [],
   "source": [
    "word_catogory = {\n",
    "    'houses':'objects',\n",
    "    'toys':'objects',\n",
    "    'barns':'objects',\n",
    "    'dogs':'creatures',\n",
    "    'cats':'creatures',\n",
    "    'horses':'creatures'\n",
    "}\n",
    "\n",
    "for x in word_category:\n",
    "    a = "
   ]
  },
  {
   "cell_type": "code",
   "execution_count": null,
   "metadata": {},
   "outputs": [],
   "source": []
  },
  {
   "cell_type": "markdown",
   "metadata": {},
   "source": [
    "## Exercise 3 - Data Conversion\n",
    "Sometimes data comes in unexpected ways. Converting data and using it after is often required to complete analysis in the real world.\n",
    "* convert values in the list to numbers\n",
    "* provide the average (mean) of the numbers\n",
    "* provide the sum (total) of the numbers\n",
    "* provide the count of numbers in the list (Do not enter the value, calculate it)\n",
    "* remove the largest and smallest number from the list\n",
    "* provide the average (mean) of the numbers\n",
    "* provide the sum (total) of the numbers\n",
    "* provide the count of numbers in the list (Do not enter the value, calculate it)"
   ]
  },
  {
   "cell_type": "code",
   "execution_count": 23,
   "metadata": {},
   "outputs": [
    {
     "name": "stdout",
     "output_type": "stream",
     "text": [
      "[10234, 500, 125, 50213, 1440, 64920, 225, 425, 1]\n"
     ]
    },
    {
     "ename": "TypeError",
     "evalue": "can only concatenate list (not \"str\") to list",
     "output_type": "error",
     "traceback": [
      "\u001b[1;31m---------------------------------------------------------------------------\u001b[0m",
      "\u001b[1;31mTypeError\u001b[0m                                 Traceback (most recent call last)",
      "\u001b[1;32m<ipython-input-23-015aa6562285>\u001b[0m in \u001b[0;36m<module>\u001b[1;34m\u001b[0m\n\u001b[0;32m      4\u001b[0m \u001b[0mprint\u001b[0m\u001b[1;33m(\u001b[0m\u001b[0ma_list\u001b[0m\u001b[1;33m)\u001b[0m\u001b[1;33m\u001b[0m\u001b[1;33m\u001b[0m\u001b[0m\n\u001b[0;32m      5\u001b[0m \u001b[1;33m\u001b[0m\u001b[0m\n\u001b[1;32m----> 6\u001b[1;33m \u001b[0msumm\u001b[0m \u001b[1;33m=\u001b[0m \u001b[0msum\u001b[0m\u001b[1;33m(\u001b[0m\u001b[1;34m\"sum of list:\"\u001b[0m\u001b[1;33m,\u001b[0m \u001b[0ma_list\u001b[0m\u001b[1;33m)\u001b[0m\u001b[1;33m\u001b[0m\u001b[1;33m\u001b[0m\u001b[0m\n\u001b[0m\u001b[0;32m      7\u001b[0m \u001b[1;33m\u001b[0m\u001b[0m\n\u001b[0;32m      8\u001b[0m \u001b[0mmean\u001b[0m \u001b[1;33m=\u001b[0m \u001b[0msum\u001b[0m\u001b[1;33m(\u001b[0m\u001b[0ma_list\u001b[0m\u001b[1;33m)\u001b[0m \u001b[1;33m/\u001b[0m \u001b[0mlen\u001b[0m\u001b[1;33m(\u001b[0m\u001b[0ma_list\u001b[0m\u001b[1;33m)\u001b[0m\u001b[1;33m\u001b[0m\u001b[1;33m\u001b[0m\u001b[0m\n",
      "\u001b[1;31mTypeError\u001b[0m: can only concatenate list (not \"str\") to list"
     ]
    }
   ],
   "source": [
    "import math\n",
    "a_list = ['10234', '500', '125', '50213', '1440', '64920', '225', '425', '1']\n",
    "a_list = [int(i) for i in a_list]\n",
    "print(a_list)\n",
    "\n",
    "summ = sum(\"sum of list:\", a_list)\n",
    "    \n",
    "mean = sum(a_list) / len(a_list)\n",
    "print(\"mean of list is:\", mean)\n",
    "\n",
    "new = sorted(a_list)\n",
    "trimmed = new[1:-1]\n",
    "print(\"trimmed list:\", trimmed)\n",
    "\n",
    "new_sum = sum(trimmed)\n",
    "print(\"new sum:\", new_sum)\n",
    "\n",
    "new_mean = sum(new_sum) / len(new_sum)\n",
    "print(\"new mean:\", new_mean)\n",
    "\n",
    "\n",
    "\n",
    "\n",
    "\n",
    "    "
   ]
  },
  {
   "cell_type": "code",
   "execution_count": null,
   "metadata": {},
   "outputs": [],
   "source": []
  },
  {
   "cell_type": "code",
   "execution_count": null,
   "metadata": {},
   "outputs": [],
   "source": []
  }
 ],
 "metadata": {
  "kernelspec": {
   "display_name": "Python 3",
   "language": "python",
   "name": "python3"
  },
  "language_info": {
   "codemirror_mode": {
    "name": "ipython",
    "version": 3
   },
   "file_extension": ".py",
   "mimetype": "text/x-python",
   "name": "python",
   "nbconvert_exporter": "python",
   "pygments_lexer": "ipython3",
   "version": "3.8.3"
  },
  "toc": {
   "base_numbering": 1,
   "nav_menu": {},
   "number_sections": true,
   "sideBar": true,
   "skip_h1_title": false,
   "title_cell": "Table of Contents",
   "title_sidebar": "Contents",
   "toc_cell": false,
   "toc_position": {},
   "toc_section_display": true,
   "toc_window_display": false
  },
  "varInspector": {
   "cols": {
    "lenName": 16,
    "lenType": 16,
    "lenVar": 40
   },
   "kernels_config": {
    "python": {
     "delete_cmd_postfix": "",
     "delete_cmd_prefix": "del ",
     "library": "var_list.py",
     "varRefreshCmd": "print(var_dic_list())"
    },
    "r": {
     "delete_cmd_postfix": ") ",
     "delete_cmd_prefix": "rm(",
     "library": "var_list.r",
     "varRefreshCmd": "cat(var_dic_list()) "
    }
   },
   "types_to_exclude": [
    "module",
    "function",
    "builtin_function_or_method",
    "instance",
    "_Feature"
   ],
   "window_display": false
  }
 },
 "nbformat": 4,
 "nbformat_minor": 4
}
